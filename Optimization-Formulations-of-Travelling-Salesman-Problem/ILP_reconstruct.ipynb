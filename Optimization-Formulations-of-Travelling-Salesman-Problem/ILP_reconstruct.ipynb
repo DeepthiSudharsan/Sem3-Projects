{
 "cells": [
  {
   "cell_type": "code",
   "execution_count": 14,
   "metadata": {},
   "outputs": [
    {
     "name": "stdout",
     "output_type": "stream",
     "text": [
      "Enter chromosome size: 15\n",
      "15\n",
      "Enter k-mer's k size: 7\n",
      "7\n"
     ]
    },
    {
     "data": {
      "text/plain": [
       "'GAAGTCGCCTTCAGG'"
      ]
     },
     "execution_count": 14,
     "metadata": {},
     "output_type": "execute_result"
    }
   ],
   "source": [
    "import numpy as np\n",
    "import random\n",
    "csize = int(input(\"Enter chromosome size: \"))\n",
    "print(csize) \n",
    "k = int(input(\"Enter k-mer's k size: \"))\n",
    "print(k)\n",
    "seq = \"\".join(random.choice(\"AGCT\") for _ in range(csize))\n",
    "seq"
   ]
  },
  {
   "cell_type": "code",
   "execution_count": 15,
   "metadata": {},
   "outputs": [],
   "source": [
    "def kmerfind(seq,k):\n",
    "    kmerList = []\n",
    "    for i in range(0,len(seq)-k+1):\n",
    "        \n",
    "        kmer=seq[i:i+k]\n",
    "        kmerList.append(kmer)\n",
    "    print(\"Splitting the sequence into \" + str(k) + \" - mers\")\n",
    "    print(kmerList)\n",
    "    print(\"============================================\")\n",
    "    return kmerList"
   ]
  },
  {
   "cell_type": "code",
   "execution_count": 16,
   "metadata": {},
   "outputs": [],
   "source": [
    "def kmersort(kmerList):\n",
    "    x=kmerList.copy()\n",
    "    l = len(x)\n",
    "    for i in range(l-1):\n",
    "        for j in range(l-i-1):\n",
    "            if x[j]>x[j+1]:\n",
    "                x[j],x[j+1]=x[j+1],x[j]\n",
    "    print(str(k) + \" - mers arranged in lexicographic order\")\n",
    "    print(x)\n",
    "    print(\"============================================\")\n",
    "    return x             \n",
    "                \n",
    "                \n",
    "        "
   ]
  },
  {
   "cell_type": "code",
   "execution_count": 17,
   "metadata": {},
   "outputs": [
    {
     "name": "stdout",
     "output_type": "stream",
     "text": [
      "Splitting the sequence into 7 - mers\n",
      "['GAAGTCG', 'AAGTCGC', 'AGTCGCC', 'GTCGCCT', 'TCGCCTT', 'CGCCTTC', 'GCCTTCA', 'CCTTCAG', 'CTTCAGG']\n",
      "============================================\n",
      "7 - mers arranged in lexicographic order\n",
      "['AAGTCGC', 'AGTCGCC', 'CCTTCAG', 'CGCCTTC', 'CTTCAGG', 'GAAGTCG', 'GCCTTCA', 'GTCGCCT', 'TCGCCTT']\n",
      "============================================\n"
     ]
    }
   ],
   "source": [
    "kmerList=kmerfind(seq,k)\n",
    "Kmers=kmersort(kmerList)"
   ]
  },
  {
   "cell_type": "code",
   "execution_count": 18,
   "metadata": {},
   "outputs": [
    {
     "data": {
      "text/plain": [
       "5"
      ]
     },
     "execution_count": 18,
     "metadata": {},
     "output_type": "execute_result"
    }
   ],
   "source": [
    "ikmer = Kmers.index(kmerList[0])\n",
    "ikmer"
   ]
  },
  {
   "cell_type": "code",
   "execution_count": 19,
   "metadata": {},
   "outputs": [],
   "source": [
    "def hammingDist(str1, str2):\n",
    "    i = 0\n",
    "    count = 0\n",
    " \n",
    "    while(i < len(str1)):\n",
    "        if(str1[i] != str2[i]):\n",
    "            count += 1\n",
    "        i += 1\n",
    "    return count"
   ]
  },
  {
   "cell_type": "code",
   "execution_count": 20,
   "metadata": {},
   "outputs": [
    {
     "name": "stdout",
     "output_type": "stream",
     "text": [
      "[[0. 5. 5. 6. 6. 6. 6. 6. 5.]\n",
      " [5. 0. 6. 4. 5. 6. 6. 6. 6.]\n",
      " [5. 6. 0. 6. 4. 6. 5. 6. 5.]\n",
      " [6. 4. 6. 0. 5. 6. 5. 6. 5.]\n",
      " [6. 5. 4. 5. 0. 6. 7. 6. 6.]\n",
      " [6. 6. 6. 6. 6. 0. 4. 4. 7.]\n",
      " [6. 6. 5. 5. 7. 4. 0. 4. 6.]\n",
      " [6. 6. 6. 6. 6. 4. 4. 0. 5.]\n",
      " [5. 6. 5. 5. 6. 7. 6. 5. 0.]]\n"
     ]
    }
   ],
   "source": [
    "dist=np.zeros([len(Kmers),len(Kmers)])\n",
    "for n in range(len(Kmers)):\n",
    "    for p in range(len(Kmers)):\n",
    "        dist[n][p]=hammingDist(Kmers[n],Kmers[p])\n",
    "print(dist)        \n",
    "        "
   ]
  },
  {
   "cell_type": "code",
   "execution_count": 21,
   "metadata": {},
   "outputs": [],
   "source": [
    "from mip import Model, xsum, minimize, BINARY\n",
    "import time\n",
    "from itertools import product\n",
    "   \n",
    "def TSP_ILP(G):\n",
    "    \n",
    "       \n",
    "    start = time.time()\n",
    "    V1 =  range(len(G))\n",
    "    n, V = len(G), set(V1)\n",
    "    model = Model()\n",
    "    # binary variables indicating if arc (i,j) is used \n",
    "    # on the route or not\n",
    "    x = [[model.add_var(var_type=BINARY) for j in V] for i in V]\n",
    "    # continuous variable to prevent subtours: each city will have a\n",
    "    # different sequential id in the planned route except the 1st one\n",
    "    y = [model.add_var() for i in V]\n",
    "    # objective function: minimize the distance\n",
    "    model.objective = minimize(xsum(G[i][j]*x[i][j] \\\n",
    "                               for i in V for j in V))\n",
    "    \n",
    "    # constraint : leave each city only once\n",
    "    for i in V:\n",
    "        model += xsum(x[i][j] for j in V - {i}) == 1\n",
    "    # constraint : enter each city only once\n",
    "    for i in V:\n",
    "        model += xsum(x[j][i] for j in V - {i}) == 1\n",
    "    # subtour elimination\n",
    "    for (i, j) in product(V - {0}, V - {0}):\n",
    "        if i != j:\n",
    "            model += y[i] - (n+1)*x[i][j] >= y[j]-n\n",
    "    # optimizing\n",
    "    model.optimize()\n",
    "    # checking if a solution was found\n",
    "    if model.num_solutions:\n",
    "        print('Total distance {}'.format(model.objective_value))\n",
    "        nc = ikmer # cycle starts from vertex 0\n",
    "        cycle = [nc]\n",
    "        while True:\n",
    "            nc = [i for i in V if x[nc][i].x >= 0.99][0]\n",
    "            cycle.append(nc)\n",
    "            if nc == 0:\n",
    "                break\n",
    "\n",
    "    return ( cycle)"
   ]
  },
  {
   "cell_type": "code",
   "execution_count": 22,
   "metadata": {},
   "outputs": [
    {
     "name": "stdout",
     "output_type": "stream",
     "text": [
      "Total distance 41.0\n",
      "[5, 7, 8]\n"
     ]
    }
   ],
   "source": [
    "path=TSP_ILP(dist)\n",
    "path.pop()\n",
    "print(path)"
   ]
  },
  {
   "cell_type": "markdown",
   "metadata": {},
   "source": [
    "# CHALLENGES"
   ]
  },
  {
   "cell_type": "code",
   "execution_count": 23,
   "metadata": {},
   "outputs": [],
   "source": [
    "def reconstruct(path,Kmers):\n",
    "    fin = Kmers[path[0]]\n",
    "    for i in range(1,len(path)):\n",
    "        fin+=Kmers[path[i]][k-2]\n",
    "    print(fin)   \n",
    "    return fin\n",
    "   \n",
    "    "
   ]
  },
  {
   "cell_type": "code",
   "execution_count": 24,
   "metadata": {},
   "outputs": [
    {
     "name": "stdout",
     "output_type": "stream",
     "text": [
      "GAAGTCGCT\n"
     ]
    }
   ],
   "source": [
    "recons=(reconstruct(path,Kmers))  \n",
    "\n",
    "    "
   ]
  },
  {
   "cell_type": "code",
   "execution_count": 25,
   "metadata": {},
   "outputs": [
    {
     "name": "stdout",
     "output_type": "stream",
     "text": [
      "Nodes of sequence GAAGTCGCT\n",
      "['GTCGCCT', 'TCGCCTT', 'GAAGTCG']\n",
      "============================================\n",
      "Edges of sequence GAAGTCGCT\n",
      "[('GAAGTCG', 'GTCGCCT'), ('GTCGCCT', 'TCGCCTT')]\n",
      "============================================\n"
     ]
    }
   ],
   "source": [
    "edges = []\n",
    "nodes = set()\n",
    "for i in range(len(path)-1):\n",
    "    ind1=path[i]\n",
    "    ind2=path[i+1]\n",
    "    edges.append((Kmers[ind1],Kmers[ind2]))\n",
    "    nodes.add(Kmers[ind1])\n",
    "    nodes.add(Kmers[ind2])\n",
    "nodes_list = list(nodes)\n",
    "print(\"Nodes of sequence \" + recons)\n",
    "print(nodes_list)\n",
    "print(\"============================================\")\n",
    "print(\"Edges of sequence \" + recons)\n",
    "print(edges)\n",
    "print(\"============================================\")     \n",
    "\n"
   ]
  },
  {
   "cell_type": "code",
   "execution_count": 26,
   "metadata": {},
   "outputs": [
    {
     "data": {
      "image/svg+xml": [
       "<?xml version=\"1.0\" encoding=\"UTF-8\" standalone=\"no\"?>\r\n",
       "<!DOCTYPE svg PUBLIC \"-//W3C//DTD SVG 1.1//EN\"\r\n",
       " \"http://www.w3.org/Graphics/SVG/1.1/DTD/svg11.dtd\">\r\n",
       "<!-- Generated by graphviz version 2.44.1 (20200629.0800)\r\n",
       " -->\r\n",
       "<!-- Pages: 1 -->\r\n",
       "<svg width=\"120pt\" height=\"188pt\"\r\n",
       " viewBox=\"0.00 0.00 119.79 188.00\" xmlns=\"http://www.w3.org/2000/svg\" xmlns:xlink=\"http://www.w3.org/1999/xlink\">\r\n",
       "<g id=\"graph0\" class=\"graph\" transform=\"scale(1 1) rotate(0) translate(4 184)\">\r\n",
       "<polygon fill=\"white\" stroke=\"transparent\" points=\"-4,4 -4,-184 115.79,-184 115.79,4 -4,4\"/>\r\n",
       "<!-- GTCGCCT -->\r\n",
       "<g id=\"node1\" class=\"node\">\r\n",
       "<title>GTCGCCT</title>\r\n",
       "<ellipse fill=\"none\" stroke=\"black\" cx=\"55.9\" cy=\"-90\" rx=\"55.49\" ry=\"18\"/>\r\n",
       "<text text-anchor=\"middle\" x=\"55.9\" y=\"-86.3\" font-family=\"Times New Roman,serif\" font-size=\"14.00\">GTCGCCT</text>\r\n",
       "</g>\r\n",
       "<!-- TCGCCTT -->\r\n",
       "<g id=\"node2\" class=\"node\">\r\n",
       "<title>TCGCCTT</title>\r\n",
       "<ellipse fill=\"none\" stroke=\"black\" cx=\"55.9\" cy=\"-18\" rx=\"53.89\" ry=\"18\"/>\r\n",
       "<text text-anchor=\"middle\" x=\"55.9\" y=\"-14.3\" font-family=\"Times New Roman,serif\" font-size=\"14.00\">TCGCCTT</text>\r\n",
       "</g>\r\n",
       "<!-- GTCGCCT&#45;&gt;TCGCCTT -->\r\n",
       "<g id=\"edge2\" class=\"edge\">\r\n",
       "<title>GTCGCCT&#45;&gt;TCGCCTT</title>\r\n",
       "<path fill=\"none\" stroke=\"black\" d=\"M55.9,-71.7C55.9,-63.98 55.9,-54.71 55.9,-46.11\"/>\r\n",
       "<polygon fill=\"black\" stroke=\"black\" points=\"59.4,-46.1 55.9,-36.1 52.4,-46.1 59.4,-46.1\"/>\r\n",
       "</g>\r\n",
       "<!-- GAAGTCG -->\r\n",
       "<g id=\"node3\" class=\"node\">\r\n",
       "<title>GAAGTCG</title>\r\n",
       "<ellipse fill=\"none\" stroke=\"black\" cx=\"55.9\" cy=\"-162\" rx=\"55.79\" ry=\"18\"/>\r\n",
       "<text text-anchor=\"middle\" x=\"55.9\" y=\"-158.3\" font-family=\"Times New Roman,serif\" font-size=\"14.00\">GAAGTCG</text>\r\n",
       "</g>\r\n",
       "<!-- GAAGTCG&#45;&gt;GTCGCCT -->\r\n",
       "<g id=\"edge1\" class=\"edge\">\r\n",
       "<title>GAAGTCG&#45;&gt;GTCGCCT</title>\r\n",
       "<path fill=\"none\" stroke=\"black\" d=\"M55.9,-143.7C55.9,-135.98 55.9,-126.71 55.9,-118.11\"/>\r\n",
       "<polygon fill=\"black\" stroke=\"black\" points=\"59.4,-118.1 55.9,-108.1 52.4,-118.1 59.4,-118.1\"/>\r\n",
       "</g>\r\n",
       "</g>\r\n",
       "</svg>\r\n"
      ],
      "text/plain": [
       "<graphviz.dot.Digraph at 0x261797628c8>"
      ]
     },
     "execution_count": 26,
     "metadata": {},
     "output_type": "execute_result"
    }
   ],
   "source": [
    "from graphviz import Digraph\n",
    "dot = Digraph()\n",
    "for i in range (len(nodes_list)):\n",
    "    dot.node(nodes_list[i])\n",
    "dot.edges(edges)\n",
    "# Visualize the graph\n",
    "dot"
   ]
  },
  {
   "cell_type": "raw",
   "metadata": {},
   "source": []
  }
 ],
 "metadata": {
  "kernelspec": {
   "display_name": "Python 3",
   "language": "python",
   "name": "python3"
  },
  "language_info": {
   "codemirror_mode": {
    "name": "ipython",
    "version": 3
   },
   "file_extension": ".py",
   "mimetype": "text/x-python",
   "name": "python",
   "nbconvert_exporter": "python",
   "pygments_lexer": "ipython3",
   "version": "3.7.4"
  }
 },
 "nbformat": 4,
 "nbformat_minor": 2
}
