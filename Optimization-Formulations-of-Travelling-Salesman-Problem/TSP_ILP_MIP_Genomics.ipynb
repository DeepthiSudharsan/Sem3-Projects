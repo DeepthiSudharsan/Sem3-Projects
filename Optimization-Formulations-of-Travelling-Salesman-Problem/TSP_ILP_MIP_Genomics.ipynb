{
 "cells": [
  {
   "cell_type": "code",
   "execution_count": 16,
   "metadata": {},
   "outputs": [],
   "source": [
    "import numpy as np"
   ]
  },
  {
   "cell_type": "code",
   "execution_count": 17,
   "metadata": {},
   "outputs": [
    {
     "name": "stdout",
     "output_type": "stream",
     "text": [
      " Chromosome length :  35\n",
      " Parents : ['CGCTTCGTGTACAAAGTGACTGCAGGGGTCCCCAC', 'CCTCTCCTGGAACCCAGCTCCAAGTACGAACGGCT']\n"
     ]
    }
   ],
   "source": [
    "import random\n",
    "csize = np.random.randint(4,15) # randomly generated length\n",
    "k = np.random.randint(2,csize) # k length to split sequence later into k spilts to get hamming distance\n",
    "print(\" Chromosome length : \" , csize * k) # chromosome length such that it can be divided into csize no of k splits\n",
    "seq = [0]*2  #stores the parent sequences\n",
    "for i in range(len(seq)):\n",
    "    seq[i] = \"\".join(random.choice(\"AGCT\") for _ in range(csize*k)) #randomly generates chromosomes\n",
    "print(\" Parents :\", seq)"
   ]
  },
  {
   "cell_type": "code",
   "execution_count": 18,
   "metadata": {},
   "outputs": [],
   "source": [
    "def seqsplit(seq,k):\n",
    "    seqlist =[]\n",
    "    for i in range(0, len(seq)):\n",
    "        if(i%k==0):\n",
    "            kseq =seq[i:i+k] #splitting seq into csize no of k splits \n",
    "            # example AGTCGTCA w/ k=4 will be split as AGTC and GTCA \n",
    "            seqlist.append(kseq)\n",
    "    return seqlist"
   ]
  },
  {
   "cell_type": "code",
   "execution_count": 19,
   "metadata": {},
   "outputs": [
    {
     "name": "stdout",
     "output_type": "stream",
     "text": [
      "[['CGCTT', 'CGTGT', 'ACAAA', 'GTGAC', 'TGCAG', 'GGGTC', 'CCCAC'], ['CCTCT', 'CCTGG', 'AACCC', 'AGCTC', 'CAAGT', 'ACGAA', 'CGGCT']]\n"
     ]
    }
   ],
   "source": [
    "temp_seq = [0]*len(seq) # temp to store the split reads \n",
    "for j in range(len(seq)):\n",
    "    temp_seq[j] = seqsplit(seq[j],k)\n",
    "print(temp_seq) #csize no of k splits which we will use ti find hammingdist of "
   ]
  },
  {
   "cell_type": "code",
   "execution_count": 20,
   "metadata": {},
   "outputs": [],
   "source": [
    "def hammingDist(str1, str2):\n",
    "    i = 0\n",
    "    count = 0 \n",
    " \n",
    "    while(i < len(str1)):\n",
    "        if(str1[i] != str2[i]): #if characters at the same index of the two strings dont match then distance is incremented\n",
    "            count += 1\n",
    "        i += 1\n",
    "    return count"
   ]
  },
  {
   "cell_type": "code",
   "execution_count": 21,
   "metadata": {},
   "outputs": [],
   "source": [
    "parent = [] # this appends both the parent's split reads together to find the overall adjacency matrix\n",
    "for i in temp_seq:\n",
    "    parent.extend(i)\n",
    "\n",
    "\n",
    "seq_hdist = np.zeros((len(parent),len(parent))) #this is the adjacency matrix based on the distances\n",
    "for i in range(len(temp_seq)):\n",
    "    for j in range(len(temp_seq)):\n",
    "        seq_hdist[i][j] = hammingDist(parent[i],parent[j])"
   ]
  },
  {
   "cell_type": "code",
   "execution_count": 22,
   "metadata": {},
   "outputs": [],
   "source": [
    "from mip import Model, xsum, minimize, BINARY\n",
    "from itertools import product \n",
    "\n",
    "def TSP_ILP(G):\n",
    "    \n",
    "       \n",
    "    V1 =  range(len(G))\n",
    "    n, V = len(G), set(V1)   \n",
    "    model = Model()\n",
    "    # binary variables indicating if arc (i,j) is used \n",
    "    # on the route or not\n",
    "    x = [[model.add_var(var_type=BINARY) for j in V] for i in V]\n",
    "        # objective function: minimize the distance\n",
    "    # continuous variable to prevent subtours: each city will have a\n",
    "    # different sequential id in the planned route except the 1st one\n",
    "    y = [model.add_var() for i in V]\n",
    "    model.objective = minimize(xsum(G[i][j]*x[i][j]+ G[i][j]*x[j][i] \\\n",
    "                               for i in V for j in V))\n",
    "    \n",
    "    # constraint : leave each city only once\n",
    "    for i in V:\n",
    "        model += xsum(x[i][j] for j in V - {i}) == 1\n",
    "    # constraint : enter each city only once\n",
    "    for i in V:\n",
    "        model += xsum(x[j][i] for j in V - {i}) == 1\n",
    "\n",
    "    # subtour elimination\n",
    "    for (i, j) in product(V - {0}, V - {0}):\n",
    "        if i != j:\n",
    "            model += y[i] - (n+1)*x[i][j] >= y[j]-n     \n",
    "        \n",
    "    # optimizing\n",
    "    model.optimize()\n",
    "    # checking if a solution was found\n",
    "    if model.num_solutions:\n",
    "        nc = 0 # cycle starts from vertex 0\n",
    "        cycle = [nc]\n",
    "        while True:\n",
    "            nc = [i for i in V if x[nc][i].x >= 0.99][0]\n",
    "            cycle.append(nc)\n",
    "            if nc == 0:\n",
    "                break\n",
    "\n",
    "    return ( cycle)"
   ]
  },
  {
   "cell_type": "code",
   "execution_count": 23,
   "metadata": {},
   "outputs": [
    {
     "name": "stdout",
     "output_type": "stream",
     "text": [
      "Column indices to be swapped :  [0, 13, 2, 12, 8, 9, 7, 6, 3, 1, 10, 5, 4, 11]\n"
     ]
    }
   ],
   "source": [
    "path = TSP_ILP(seq_hdist) #prints the indices of the columns to be swapped \n",
    "if (len(path)%2!=0): #if path length is odd we will drop off the last (starting column index)\n",
    "    path.pop()\n",
    "print(\"Column indices to be swapped : \", path)\n",
    "# if column indices to be swapped are [1,6,2,5] then column 1 and 6 are interchanged and columns 2 and 5 are interchanged"
   ]
  },
  {
   "cell_type": "code",
   "execution_count": 24,
   "metadata": {},
   "outputs": [],
   "source": [
    "ii = 0\n",
    "while(ii!=len(path)):\n",
    "    parent[path[ii]], parent[path[ii+1]] = parent[path[ii+1]], parent[path[ii]] #swap the column indices in the path\n",
    "    #to create mutation\n",
    "    ii+=2"
   ]
  },
  {
   "cell_type": "code",
   "execution_count": 25,
   "metadata": {},
   "outputs": [
    {
     "name": "stdout",
     "output_type": "stream",
     "text": [
      "Children :  ['CGGCTGTGACACGAACGTGTCAAGTAGCTCCCTCT', 'CCCACAACCCCCTGGGGGTCTGCAGACAAACGCTT']\n"
     ]
    }
   ],
   "source": [
    "child = [0]*2 #splitting the mutated concatenated parent list into two equal parts \n",
    "child[0] = parent[0:(len(parent)//2)]\n",
    "child[1]=parent[(len(parent)//2):len(parent)]\n",
    "ch = [0]*2 #joins the splits together to form the full chromosomes of the children\n",
    "ch[0] = ''.join((child[0][n]) for n in range(len(child[0])))\n",
    "ch[1] = ''.join((child[1][n]) for n in range(len(child[1])))\n",
    "print(\"Children : \", ch)"
   ]
  }
 ],
 "metadata": {
  "kernelspec": {
   "display_name": "Python 3",
   "language": "python",
   "name": "python3"
  },
  "language_info": {
   "codemirror_mode": {
    "name": "ipython",
    "version": 3
   },
   "file_extension": ".py",
   "mimetype": "text/x-python",
   "name": "python",
   "nbconvert_exporter": "python",
   "pygments_lexer": "ipython3",
   "version": "3.7.4"
  }
 },
 "nbformat": 4,
 "nbformat_minor": 2
}
