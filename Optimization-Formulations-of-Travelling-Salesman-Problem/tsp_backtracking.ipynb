{
 "cells": [
  {
   "cell_type": "code",
   "execution_count": 191,
   "metadata": {},
   "outputs": [],
   "source": [
    "from sys import maxsize \n",
    "from itertools import permutations\n",
    "#from graphviz import Digraph\n",
    "import networkx as nx\n",
    "import matplotlib.pyplot as plt\n",
    "import numpy as np\n",
    "from graphviz import Digraph\n",
    "import pandas as pd"
   ]
  },
  {
   "cell_type": "code",
   "execution_count": 192,
   "metadata": {
    "scrolled": true
   },
   "outputs": [],
   "source": [
    "V = 4\n",
    "req = [] \n",
    "\n",
    "def tsp(graph, v, currPos, n, count, cost): \n",
    "  \n",
    "    # If last node is reached and it has  \n",
    "    # a link to the starting node\n",
    "    if (count == n and graph[currPos][0]): \n",
    "        req.append(cost + graph[currPos][0]) \n",
    "        return\n",
    "    # BACKTRACKING STEP \n",
    "    # in this Loop we just traverse the adjacency list  of currPos node and increasing the count \n",
    "    # by 1 and cost by graph[currPos][i] value \n",
    "    for i in range(n): \n",
    "        if (v[i] == False and graph[currPos][i]): \n",
    "              \n",
    "            # Mark as visited \n",
    "            v[i] = True\n",
    "            tsp(graph, v, i, n, count + 1,  \n",
    "                cost + graph[currPos][i]) \n",
    "              \n",
    "            # Mark ith node as unvisited \n",
    "            v[i] = False\n",
    "            final  = min(req)\n",
    "    return(min(req))       \n",
    "\n",
    "    "
   ]
  },
  {
   "cell_type": "code",
   "execution_count": 193,
   "metadata": {},
   "outputs": [],
   "source": [
    "def plotgraph(i,s):\n",
    "    nodes_list = list(i)\n",
    "    nodes_list.append(s)\n",
    "    nodes_list.insert(0,s)\n",
    "    nodes_list = list(map(str,nodes_list)) \n",
    "    print(nodes_list)\n",
    "    # Base class for directed graphs.\n",
    "    # A DiGraph stores nodes and edges with optional data, or attributes.\n",
    "    G = nx.DiGraph()\n",
    "    # creates a list of edge tuples\n",
    "    G.add_edges_from([(nodes_list[i],nodes_list[i+1]) for i in range(0,len(nodes_list)-1)])\n",
    "    # Position nodes using a force-directed algorithm (NetworkX graph is given as input)\n",
    "    pos = nx.spring_layout(G,k=4)\n",
    "    #This draws only the nodes of the graph G.\n",
    "    nx.draw_networkx_nodes(G, pos,node_color = \"yellow\", node_size = 300)\n",
    "    # Draw node labels on the graph G.\n",
    "    nx.draw_networkx_labels(G, pos)\n",
    "    # This draws only the edges of the graph G.\n",
    "    nx.draw_networkx_edges(G, pos, edge_color='b', arrows=True)\n",
    "    # function to show the plot\n",
    "    plt.show()\n"
   ]
  },
  {
   "cell_type": "code",
   "execution_count": 194,
   "metadata": {},
   "outputs": [],
   "source": [
    "def printpath(graph,s,mindist):\n",
    "    vertex = [] \n",
    "    for i in range(V): \n",
    "        if i != s: \n",
    "            vertex.append(i) \n",
    " \n",
    "    # store minimum weight Hamiltonian Cycle \n",
    "    min_path = maxsize \n",
    "    next_permutation=permutations(vertex)\n",
    "    for i in next_permutation:\n",
    "        # store current Path weight(cost) \n",
    "        current_pathweight = 0\n",
    " \n",
    "        # compute current path weight \n",
    "        k = s \n",
    "        for j in i: \n",
    "            current_pathweight += graph[k][j]\n",
    "            k = j \n",
    "        current_pathweight += graph[k][s] \n",
    "        # update minimum \n",
    "        min_path = min(min_path, current_pathweight)\n",
    "        if(current_pathweight == mindist): \n",
    "            plotgraph(i,s)   "
   ]
  },
  {
   "cell_type": "code",
   "execution_count": 195,
   "metadata": {},
   "outputs": [
    {
     "name": "stdout",
     "output_type": "stream",
     "text": [
      "    1   2   3   4\n",
      "1   0  22  14  48\n",
      "2  18   0  32  47\n",
      "3  27  18   0  13\n",
      "4  46   5  13   0\n",
      "The smallest distance between the cities that can be covered is : \n",
      "50\n"
     ]
    }
   ],
   "source": [
    "#graph = [[0, 10, 15, 20], [5, 0, 9, 10], [6, 13, 0, 12], [8, 8, 9, 0]]\n",
    "x = np.random.randint(50, size = (4, 4))\n",
    "nodes = '1234'\n",
    "headers = [_ for _ in nodes] \n",
    "np.fill_diagonal(x, 0)\n",
    "s = pd.DataFrame(x, index=headers, columns=headers) \n",
    "print(s)\n",
    "graph = x\n",
    "s = 0\n",
    "n = 4\n",
    "    # has been visited or not \n",
    "v = [False for i in range(n)] \n",
    "      \n",
    "    # Mark 0th node as visited \n",
    "v[0] = True\n",
    "mindist = tsp(graph, v, 0, n, 1, 0)\n",
    "print(\"The smallest distance between the cities that can be covered is : \")\n",
    "print(mindist)\n",
    "\n"
   ]
  },
  {
   "cell_type": "code",
   "execution_count": 196,
   "metadata": {},
   "outputs": [
    {
     "name": "stdout",
     "output_type": "stream",
     "text": [
      "['0', '2', '3', '1', '0']\n"
     ]
    },
    {
     "data": {
      "image/png": "[encoded data removed]",
      "text/plain": [
       "<Figure size 432x288 with 1 Axes>"
      ]
     },
     "metadata": {},
     "output_type": "display_data"
    }
   ],
   "source": [
    "printpath(graph,s,mindist)"
   ]
  },
  {
   "cell_type": "code",
   "execution_count": null,
   "metadata": {
    "scrolled": true
   },
   "outputs": [],
   "source": []
  },
  {
   "cell_type": "code",
   "execution_count": null,
   "metadata": {},
   "outputs": [],
   "source": []
  },
  {
   "cell_type": "code",
   "execution_count": null,
   "metadata": {},
   "outputs": [],
   "source": []
  }
 ],
 "metadata": {
  "kernelspec": {
   "display_name": "Python 3",
   "language": "python",
   "name": "python3"
  },
  "language_info": {
   "codemirror_mode": {
    "name": "ipython",
    "version": 3
   },
   "file_extension": ".py",
   "mimetype": "text/x-python",
   "name": "python",
   "nbconvert_exporter": "python",
   "pygments_lexer": "ipython3",
   "version": "3.7.6"
  }
 },
 "nbformat": 4,
 "nbformat_minor": 4
}
